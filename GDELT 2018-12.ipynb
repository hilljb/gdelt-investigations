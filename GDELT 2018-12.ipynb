{
 "cells": [
  {
   "cell_type": "code",
   "execution_count": 1,
   "metadata": {},
   "outputs": [
    {
     "name": "stdout",
     "output_type": "stream",
     "text": [
      "Collecting gdelt\n",
      "  Downloading https://files.pythonhosted.org/packages/65/f9/a3d5111c8f17334b1752c32aedaab0d01ab4324bf26417bd41890d5b25d0/gdelt-0.1.10.6.1-py2.py3-none-any.whl (773kB)\n",
      "\u001b[K    100% |████████████████████████████████| 778kB 1.7MB/s eta 0:00:01\n",
      "\u001b[?25hCollecting pandas>=0.20.3 (from gdelt)\n",
      "  Downloading https://files.pythonhosted.org/packages/74/24/0cdbf8907e1e3bc5a8da03345c23cbed7044330bb8f73bb12e711a640a00/pandas-0.24.2-cp35-cp35m-manylinux1_x86_64.whl (10.0MB)\n",
      "\u001b[K    100% |████████████████████████████████| 10.0MB 139kB/s eta 0:00:01\n",
      "\u001b[?25hRequirement already satisfied: numpy in /opt/conda/lib/python3.5/site-packages (from gdelt)\n",
      "Requirement already satisfied: requests in /opt/conda/lib/python3.5/site-packages (from gdelt)\n",
      "Requirement already satisfied: python-dateutil in /opt/conda/lib/python3.5/site-packages (from gdelt)\n",
      "Requirement already satisfied: pytz>=2011k in /opt/conda/lib/python3.5/site-packages (from pandas>=0.20.3->gdelt)\n",
      "Requirement already satisfied: six>=1.5 in /opt/conda/lib/python3.5/site-packages (from python-dateutil->gdelt)\n",
      "Installing collected packages: pandas, gdelt\n",
      "  Found existing installation: pandas 0.20.1\n",
      "    Uninstalling pandas-0.20.1:\n",
      "      Successfully uninstalled pandas-0.20.1\n",
      "Successfully installed gdelt-0.1.10.6 pandas-0.24.2\n",
      "\u001b[33mYou are using pip version 9.0.1, however version 19.0.3 is available.\n",
      "You should consider upgrading via the 'pip install --upgrade pip' command.\u001b[0m\n"
     ]
    }
   ],
   "source": [
    "!pip install gdelt"
   ]
  },
  {
   "cell_type": "code",
   "execution_count": 2,
   "metadata": {},
   "outputs": [
    {
     "name": "stdout",
     "output_type": "stream",
     "text": [
      "Collecting numpy\n",
      "  Downloading https://files.pythonhosted.org/packages/f6/f3/cc6c6745347c1e997cc3e58390584a250b8e22b6dfc45414a7d69a3df016/numpy-1.16.3-cp35-cp35m-manylinux1_x86_64.whl (17.2MB)\n",
      "\u001b[K    100% |████████████████████████████████| 17.2MB 82kB/s  eta 0:00:01\n",
      "\u001b[?25hInstalling collected packages: numpy\n",
      "  Found existing installation: numpy 1.11.3\n",
      "    Uninstalling numpy-1.11.3:\n",
      "      Successfully uninstalled numpy-1.11.3\n",
      "Successfully installed numpy-1.16.3\n",
      "\u001b[33mYou are using pip version 9.0.1, however version 19.0.3 is available.\n",
      "You should consider upgrading via the 'pip install --upgrade pip' command.\u001b[0m\n"
     ]
    }
   ],
   "source": [
    "!pip install --upgrade numpy"
   ]
  },
  {
   "cell_type": "code",
   "execution_count": 1,
   "metadata": {
    "collapsed": true
   },
   "outputs": [],
   "source": [
    "import os\n",
    "import datetime\n",
    "import dateutil\n",
    "\n",
    "import pandas as pd\n",
    "pd.set_option('display.max_columns', None)\n",
    "\n",
    "import warnings\n",
    "warnings.filterwarnings(\"ignore\")\n",
    "\n",
    "import gdelt"
   ]
  },
  {
   "cell_type": "code",
   "execution_count": 2,
   "metadata": {
    "collapsed": true
   },
   "outputs": [],
   "source": [
    "def mkdirs(year, month, day):\n",
    "    \"\"\"\n",
    "    Make Hive-style partitioned directories for data.\n",
    "    \n",
    "    format for directories: pwd/year=2019/month=4/day=21/\n",
    "    \"\"\"\n",
    "    dirpath = ['year=' + str(year), '/month=' + str(month), '/day=' + str(day)]\n",
    "    \n",
    "    for i in range(1,4):    \n",
    "        d = ''.join(dirpath[:i])\n",
    "        if not os.path.isdir(d):\n",
    "            os.mkdir(d)\n",
    "\n",
    "\n",
    "def fetch_gdelt_events(year, month, day):\n",
    "    \"\"\"\n",
    "    Fetch all the GDELT events for a given day and return the Pandas dataframe.\n",
    "    \"\"\"\n",
    "    gd2 = gdelt.gdelt(version=2)\n",
    "    date = str(year) + '-' + str(month).zfill(2) + '-' + str(day).zfill(2)\n",
    "    results = gd2.Search(date=date, table='events', coverage=True, translation=False)\n",
    "    \n",
    "    print(\"Fetched %s events for %s-%s-%s\" % (len(results), year, month, day))\n",
    "    \n",
    "    return(results)\n",
    "\n",
    "\n",
    "def pandas_to_json_file(df, filepath):\n",
    "    \"\"\"\n",
    "    Convert the dataframe df row-by-row to JSON and save to filepath.\n",
    "    \"\"\"\n",
    "    fp = open(filepath,'w')\n",
    "    for row in df.iterrows():\n",
    "        row[1].to_json(fp)\n",
    "        fp.write('\\n')\n",
    "    fp.close()\n",
    "    \n",
    "    \n",
    "def fetch_and_store(datetime_day):\n",
    "    \"\"\"\n",
    "    Fetch GDELT events data and store locally as JSON.\n",
    "    \n",
    "    datetime_day is a Python datetime object.\n",
    "    \"\"\"\n",
    "    year = datetime_day.year\n",
    "    month = datetime_day.month\n",
    "    day = datetime_day.day\n",
    "    \n",
    "    # Make the directories if needed\n",
    "    mkdirs(year=year, month=month, day=day)\n",
    "    \n",
    "    # Fetch GDELT data\n",
    "    df = fetch_gdelt_events(year=year, month=month, day=day)\n",
    "    \n",
    "    # Store as JSON\n",
    "    filename = 'gdelt_' + str(year) + str(month).zfill(2) + str(day).zfill(2) + '.json'\n",
    "    filepath = 'year=' + str(year) + '/month=' + str(month) + '/day=' + str(day) + '/' + filename\n",
    "    pandas_to_json_file(df=df, filepath=filepath)\n",
    "    \n",
    "    \n",
    "def fetch_and_store_range(start_date, end_date):\n",
    "    \"\"\"\n",
    "    Fetch an interval of GDELT data.\n",
    "    \n",
    "    start_date and end_date are text, something like '2019-01-01'.\n",
    "    \"\"\"\n",
    "    current_date = dateutil.parser.parse(start_date)\n",
    "    end_date = dateutil.parser.parse(end_date)\n",
    "\n",
    "    while current_date <= end_date:\n",
    "        fetch_and_store(datetime_day=current_date)\n",
    "        current_date = current_date + datetime.timedelta(days=1)"
   ]
  },
  {
   "cell_type": "code",
   "execution_count": 3,
   "metadata": {},
   "outputs": [
    {
     "name": "stdout",
     "output_type": "stream",
     "text": [
      "Fetched 129609 events for 2018-12-1\n",
      "Fetched 104158 events for 2018-12-2\n",
      "Fetched 170433 events for 2018-12-3\n",
      "Fetched 195093 events for 2018-12-4\n",
      "Fetched 195348 events for 2018-12-5\n",
      "Fetched 195534 events for 2018-12-6\n",
      "Fetched 180675 events for 2018-12-7\n",
      "Fetched 108704 events for 2018-12-8\n",
      "Fetched 93221 events for 2018-12-9\n",
      "Fetched 156294 events for 2018-12-10\n",
      "Fetched 178492 events for 2018-12-11\n",
      "Fetched 187741 events for 2018-12-12\n",
      "Fetched 178775 events for 2018-12-13\n",
      "Fetched 178755 events for 2018-12-14\n",
      "Fetched 109223 events for 2018-12-15\n",
      "Fetched 93859 events for 2018-12-16\n",
      "Fetched 152293 events for 2018-12-17\n",
      "Fetched 174002 events for 2018-12-18\n",
      "Fetched 180182 events for 2018-12-19\n",
      "Fetched 183135 events for 2018-12-20\n",
      "Fetched 173225 events for 2018-12-21\n",
      "Fetched 103245 events for 2018-12-22\n",
      "Fetched 86031 events for 2018-12-23\n",
      "Fetched 108406 events for 2018-12-24\n",
      "Fetched 79953 events for 2018-12-25\n",
      "Fetched 104000 events for 2018-12-26\n",
      "Fetched 130108 events for 2018-12-27\n",
      "Fetched 134533 events for 2018-12-28\n",
      "Fetched 97931 events for 2018-12-29\n",
      "Fetched 87347 events for 2018-12-30\n",
      "Fetched 110162 events for 2018-12-31\n"
     ]
    }
   ],
   "source": [
    "fetch_and_store_range(start_date='2018-12-01', end_date='2018-12-31')"
   ]
  },
  {
   "cell_type": "code",
   "execution_count": null,
   "metadata": {
    "collapsed": true
   },
   "outputs": [],
   "source": []
  }
 ],
 "metadata": {
  "kernelspec": {
   "display_name": "Python 3",
   "language": "python",
   "name": "python3"
  },
  "language_info": {
   "codemirror_mode": {
    "name": "ipython",
    "version": 3
   },
   "file_extension": ".py",
   "mimetype": "text/x-python",
   "name": "python",
   "nbconvert_exporter": "python",
   "pygments_lexer": "ipython3",
   "version": "3.5.2"
  }
 },
 "nbformat": 4,
 "nbformat_minor": 2
}
